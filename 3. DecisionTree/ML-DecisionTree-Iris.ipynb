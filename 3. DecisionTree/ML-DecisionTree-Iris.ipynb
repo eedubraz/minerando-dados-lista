{
 "cells": [
  {
   "cell_type": "markdown",
   "metadata": {},
   "source": [
    "## Árvores de Decisão - Iris dataset"
   ]
  },
  {
   "cell_type": "markdown",
   "metadata": {},
   "source": [
    "### 1. Importando bibliotecas"
   ]
  },
  {
   "cell_type": "code",
   "execution_count": 74,
   "metadata": {},
   "outputs": [],
   "source": [
    "# Dataset Iris\n",
    "from sklearn.datasets import load_iris\n",
    "\n",
    "# Manipulação de dados\n",
    "import pandas as pd\n",
    "import numpy as np\n",
    "\n",
    "# Treino e teste\n",
    "from sklearn.model_selection import train_test_split\n",
    "\n",
    "# Árvores de decisão\n",
    "from sklearn import tree\n",
    "## Visualização da árvore\n",
    "from sklearn.tree import export_graphviz\n",
    "import pydot\n",
    "import graphviz\n",
    "from ipywidgets import interactive\n",
    "## Árvore interativa\n",
    "from ipywidgets import interactive\n",
    "from IPython.display import SVG,display\n",
    "from graphviz import Source\n",
    "## Fronteiras\n",
    "from mlxtend.plotting import plot_decision_regions\n",
    "import matplotlib.pyplot as plt\n",
    "\n",
    "# Metricas de validação\n",
    "from sklearn import metrics"
   ]
  },
  {
   "cell_type": "markdown",
   "metadata": {},
   "source": [
    "### 2. Carregando as bases de dados"
   ]
  },
  {
   "cell_type": "code",
   "execution_count": 3,
   "metadata": {},
   "outputs": [
    {
     "name": "stdout",
     "output_type": "stream",
     "text": [
      ".. _iris_dataset:\n",
      "\n",
      "Iris plants dataset\n",
      "--------------------\n",
      "\n",
      "**Data Set Characteristics:**\n",
      "\n",
      "    :Number of Instances: 150 (50 in each of three classes)\n",
      "    :Number of Attributes: 4 numeric, predictive attributes and the class\n",
      "    :Attribute Information:\n",
      "        - sepal length in cm\n",
      "        - sepal width in cm\n",
      "        - petal length in cm\n",
      "        - petal width in cm\n",
      "        - class:\n",
      "                - Iris-Setosa\n",
      "                - Iris-Versicolour\n",
      "                - Iris-Virginica\n",
      "                \n",
      "    :Summary Statistics:\n",
      "\n",
      "    ============== ==== ==== ======= ===== ====================\n",
      "                    Min  Max   Mean    SD   Class Correlation\n",
      "    ============== ==== ==== ======= ===== ====================\n",
      "    sepal length:   4.3  7.9   5.84   0.83    0.7826\n",
      "    sepal width:    2.0  4.4   3.05   0.43   -0.4194\n",
      "    petal length:   1.0  6.9   3.76   1.76    0.9490  (high!)\n",
      "    petal width:    0.1  2.5   1.20   0.76    0.9565  (high!)\n",
      "    ============== ==== ==== ======= ===== ====================\n",
      "\n",
      "    :Missing Attribute Values: None\n",
      "    :Class Distribution: 33.3% for each of 3 classes.\n",
      "    :Creator: R.A. Fisher\n",
      "    :Donor: Michael Marshall (MARSHALL%PLU@io.arc.nasa.gov)\n",
      "    :Date: July, 1988\n",
      "\n",
      "The famous Iris database, first used by Sir R.A. Fisher. The dataset is taken\n",
      "from Fisher's paper. Note that it's the same as in R, but not as in the UCI\n",
      "Machine Learning Repository, which has two wrong data points.\n",
      "\n",
      "This is perhaps the best known database to be found in the\n",
      "pattern recognition literature.  Fisher's paper is a classic in the field and\n",
      "is referenced frequently to this day.  (See Duda & Hart, for example.)  The\n",
      "data set contains 3 classes of 50 instances each, where each class refers to a\n",
      "type of iris plant.  One class is linearly separable from the other 2; the\n",
      "latter are NOT linearly separable from each other.\n",
      "\n",
      ".. topic:: References\n",
      "\n",
      "   - Fisher, R.A. \"The use of multiple measurements in taxonomic problems\"\n",
      "     Annual Eugenics, 7, Part II, 179-188 (1936); also in \"Contributions to\n",
      "     Mathematical Statistics\" (John Wiley, NY, 1950).\n",
      "   - Duda, R.O., & Hart, P.E. (1973) Pattern Classification and Scene Analysis.\n",
      "     (Q327.D83) John Wiley & Sons.  ISBN 0-471-22361-1.  See page 218.\n",
      "   - Dasarathy, B.V. (1980) \"Nosing Around the Neighborhood: A New System\n",
      "     Structure and Classification Rule for Recognition in Partially Exposed\n",
      "     Environments\".  IEEE Transactions on Pattern Analysis and Machine\n",
      "     Intelligence, Vol. PAMI-2, No. 1, 67-71.\n",
      "   - Gates, G.W. (1972) \"The Reduced Nearest Neighbor Rule\".  IEEE Transactions\n",
      "     on Information Theory, May 1972, 431-433.\n",
      "   - See also: 1988 MLC Proceedings, 54-64.  Cheeseman et al\"s AUTOCLASS II\n",
      "     conceptual clustering system finds 3 classes in the data.\n",
      "   - Many, many more ...\n"
     ]
    }
   ],
   "source": [
    "df = load_iris()\n",
    "print(df.DESCR)"
   ]
  },
  {
   "cell_type": "markdown",
   "metadata": {},
   "source": [
    "### 3. Verificando os features_names, target e data"
   ]
  },
  {
   "cell_type": "code",
   "execution_count": 4,
   "metadata": {},
   "outputs": [
    {
     "data": {
      "text/plain": [
       "['sepal length (cm)',\n",
       " 'sepal width (cm)',\n",
       " 'petal length (cm)',\n",
       " 'petal width (cm)']"
      ]
     },
     "execution_count": 4,
     "metadata": {},
     "output_type": "execute_result"
    }
   ],
   "source": [
    "# Nomes das features\n",
    "df.feature_names"
   ]
  },
  {
   "cell_type": "code",
   "execution_count": 5,
   "metadata": {},
   "outputs": [
    {
     "data": {
      "text/plain": [
       "array(['setosa', 'versicolor', 'virginica'], dtype='<U10')"
      ]
     },
     "execution_count": 5,
     "metadata": {},
     "output_type": "execute_result"
    }
   ],
   "source": [
    "# Classes de saída\n",
    "df.target_names"
   ]
  },
  {
   "cell_type": "code",
   "execution_count": 7,
   "metadata": {
    "collapsed": true
   },
   "outputs": [
    {
     "data": {
      "text/plain": [
       "array([[5.1, 3.5, 1.4, 0.2],\n",
       "       [4.9, 3. , 1.4, 0.2],\n",
       "       [4.7, 3.2, 1.3, 0.2],\n",
       "       [4.6, 3.1, 1.5, 0.2],\n",
       "       [5. , 3.6, 1.4, 0.2],\n",
       "       [5.4, 3.9, 1.7, 0.4],\n",
       "       [4.6, 3.4, 1.4, 0.3],\n",
       "       [5. , 3.4, 1.5, 0.2],\n",
       "       [4.4, 2.9, 1.4, 0.2],\n",
       "       [4.9, 3.1, 1.5, 0.1],\n",
       "       [5.4, 3.7, 1.5, 0.2],\n",
       "       [4.8, 3.4, 1.6, 0.2],\n",
       "       [4.8, 3. , 1.4, 0.1],\n",
       "       [4.3, 3. , 1.1, 0.1],\n",
       "       [5.8, 4. , 1.2, 0.2],\n",
       "       [5.7, 4.4, 1.5, 0.4],\n",
       "       [5.4, 3.9, 1.3, 0.4],\n",
       "       [5.1, 3.5, 1.4, 0.3],\n",
       "       [5.7, 3.8, 1.7, 0.3],\n",
       "       [5.1, 3.8, 1.5, 0.3],\n",
       "       [5.4, 3.4, 1.7, 0.2],\n",
       "       [5.1, 3.7, 1.5, 0.4],\n",
       "       [4.6, 3.6, 1. , 0.2],\n",
       "       [5.1, 3.3, 1.7, 0.5],\n",
       "       [4.8, 3.4, 1.9, 0.2],\n",
       "       [5. , 3. , 1.6, 0.2],\n",
       "       [5. , 3.4, 1.6, 0.4],\n",
       "       [5.2, 3.5, 1.5, 0.2],\n",
       "       [5.2, 3.4, 1.4, 0.2],\n",
       "       [4.7, 3.2, 1.6, 0.2],\n",
       "       [4.8, 3.1, 1.6, 0.2],\n",
       "       [5.4, 3.4, 1.5, 0.4],\n",
       "       [5.2, 4.1, 1.5, 0.1],\n",
       "       [5.5, 4.2, 1.4, 0.2],\n",
       "       [4.9, 3.1, 1.5, 0.2],\n",
       "       [5. , 3.2, 1.2, 0.2],\n",
       "       [5.5, 3.5, 1.3, 0.2],\n",
       "       [4.9, 3.6, 1.4, 0.1],\n",
       "       [4.4, 3. , 1.3, 0.2],\n",
       "       [5.1, 3.4, 1.5, 0.2],\n",
       "       [5. , 3.5, 1.3, 0.3],\n",
       "       [4.5, 2.3, 1.3, 0.3],\n",
       "       [4.4, 3.2, 1.3, 0.2],\n",
       "       [5. , 3.5, 1.6, 0.6],\n",
       "       [5.1, 3.8, 1.9, 0.4],\n",
       "       [4.8, 3. , 1.4, 0.3],\n",
       "       [5.1, 3.8, 1.6, 0.2],\n",
       "       [4.6, 3.2, 1.4, 0.2],\n",
       "       [5.3, 3.7, 1.5, 0.2],\n",
       "       [5. , 3.3, 1.4, 0.2],\n",
       "       [7. , 3.2, 4.7, 1.4],\n",
       "       [6.4, 3.2, 4.5, 1.5],\n",
       "       [6.9, 3.1, 4.9, 1.5],\n",
       "       [5.5, 2.3, 4. , 1.3],\n",
       "       [6.5, 2.8, 4.6, 1.5],\n",
       "       [5.7, 2.8, 4.5, 1.3],\n",
       "       [6.3, 3.3, 4.7, 1.6],\n",
       "       [4.9, 2.4, 3.3, 1. ],\n",
       "       [6.6, 2.9, 4.6, 1.3],\n",
       "       [5.2, 2.7, 3.9, 1.4],\n",
       "       [5. , 2. , 3.5, 1. ],\n",
       "       [5.9, 3. , 4.2, 1.5],\n",
       "       [6. , 2.2, 4. , 1. ],\n",
       "       [6.1, 2.9, 4.7, 1.4],\n",
       "       [5.6, 2.9, 3.6, 1.3],\n",
       "       [6.7, 3.1, 4.4, 1.4],\n",
       "       [5.6, 3. , 4.5, 1.5],\n",
       "       [5.8, 2.7, 4.1, 1. ],\n",
       "       [6.2, 2.2, 4.5, 1.5],\n",
       "       [5.6, 2.5, 3.9, 1.1],\n",
       "       [5.9, 3.2, 4.8, 1.8],\n",
       "       [6.1, 2.8, 4. , 1.3],\n",
       "       [6.3, 2.5, 4.9, 1.5],\n",
       "       [6.1, 2.8, 4.7, 1.2],\n",
       "       [6.4, 2.9, 4.3, 1.3],\n",
       "       [6.6, 3. , 4.4, 1.4],\n",
       "       [6.8, 2.8, 4.8, 1.4],\n",
       "       [6.7, 3. , 5. , 1.7],\n",
       "       [6. , 2.9, 4.5, 1.5],\n",
       "       [5.7, 2.6, 3.5, 1. ],\n",
       "       [5.5, 2.4, 3.8, 1.1],\n",
       "       [5.5, 2.4, 3.7, 1. ],\n",
       "       [5.8, 2.7, 3.9, 1.2],\n",
       "       [6. , 2.7, 5.1, 1.6],\n",
       "       [5.4, 3. , 4.5, 1.5],\n",
       "       [6. , 3.4, 4.5, 1.6],\n",
       "       [6.7, 3.1, 4.7, 1.5],\n",
       "       [6.3, 2.3, 4.4, 1.3],\n",
       "       [5.6, 3. , 4.1, 1.3],\n",
       "       [5.5, 2.5, 4. , 1.3],\n",
       "       [5.5, 2.6, 4.4, 1.2],\n",
       "       [6.1, 3. , 4.6, 1.4],\n",
       "       [5.8, 2.6, 4. , 1.2],\n",
       "       [5. , 2.3, 3.3, 1. ],\n",
       "       [5.6, 2.7, 4.2, 1.3],\n",
       "       [5.7, 3. , 4.2, 1.2],\n",
       "       [5.7, 2.9, 4.2, 1.3],\n",
       "       [6.2, 2.9, 4.3, 1.3],\n",
       "       [5.1, 2.5, 3. , 1.1],\n",
       "       [5.7, 2.8, 4.1, 1.3],\n",
       "       [6.3, 3.3, 6. , 2.5],\n",
       "       [5.8, 2.7, 5.1, 1.9],\n",
       "       [7.1, 3. , 5.9, 2.1],\n",
       "       [6.3, 2.9, 5.6, 1.8],\n",
       "       [6.5, 3. , 5.8, 2.2],\n",
       "       [7.6, 3. , 6.6, 2.1],\n",
       "       [4.9, 2.5, 4.5, 1.7],\n",
       "       [7.3, 2.9, 6.3, 1.8],\n",
       "       [6.7, 2.5, 5.8, 1.8],\n",
       "       [7.2, 3.6, 6.1, 2.5],\n",
       "       [6.5, 3.2, 5.1, 2. ],\n",
       "       [6.4, 2.7, 5.3, 1.9],\n",
       "       [6.8, 3. , 5.5, 2.1],\n",
       "       [5.7, 2.5, 5. , 2. ],\n",
       "       [5.8, 2.8, 5.1, 2.4],\n",
       "       [6.4, 3.2, 5.3, 2.3],\n",
       "       [6.5, 3. , 5.5, 1.8],\n",
       "       [7.7, 3.8, 6.7, 2.2],\n",
       "       [7.7, 2.6, 6.9, 2.3],\n",
       "       [6. , 2.2, 5. , 1.5],\n",
       "       [6.9, 3.2, 5.7, 2.3],\n",
       "       [5.6, 2.8, 4.9, 2. ],\n",
       "       [7.7, 2.8, 6.7, 2. ],\n",
       "       [6.3, 2.7, 4.9, 1.8],\n",
       "       [6.7, 3.3, 5.7, 2.1],\n",
       "       [7.2, 3.2, 6. , 1.8],\n",
       "       [6.2, 2.8, 4.8, 1.8],\n",
       "       [6.1, 3. , 4.9, 1.8],\n",
       "       [6.4, 2.8, 5.6, 2.1],\n",
       "       [7.2, 3. , 5.8, 1.6],\n",
       "       [7.4, 2.8, 6.1, 1.9],\n",
       "       [7.9, 3.8, 6.4, 2. ],\n",
       "       [6.4, 2.8, 5.6, 2.2],\n",
       "       [6.3, 2.8, 5.1, 1.5],\n",
       "       [6.1, 2.6, 5.6, 1.4],\n",
       "       [7.7, 3. , 6.1, 2.3],\n",
       "       [6.3, 3.4, 5.6, 2.4],\n",
       "       [6.4, 3.1, 5.5, 1.8],\n",
       "       [6. , 3. , 4.8, 1.8],\n",
       "       [6.9, 3.1, 5.4, 2.1],\n",
       "       [6.7, 3.1, 5.6, 2.4],\n",
       "       [6.9, 3.1, 5.1, 2.3],\n",
       "       [5.8, 2.7, 5.1, 1.9],\n",
       "       [6.8, 3.2, 5.9, 2.3],\n",
       "       [6.7, 3.3, 5.7, 2.5],\n",
       "       [6.7, 3. , 5.2, 2.3],\n",
       "       [6.3, 2.5, 5. , 1.9],\n",
       "       [6.5, 3. , 5.2, 2. ],\n",
       "       [6.2, 3.4, 5.4, 2.3],\n",
       "       [5.9, 3. , 5.1, 1.8]])"
      ]
     },
     "execution_count": 7,
     "metadata": {},
     "output_type": "execute_result"
    }
   ],
   "source": [
    "# Dataset\n",
    "df.data"
   ]
  },
  {
   "cell_type": "markdown",
   "metadata": {},
   "source": [
    "### 4. Dividindo os dados em treino e test"
   ]
  },
  {
   "cell_type": "code",
   "execution_count": 10,
   "metadata": {},
   "outputs": [
    {
     "data": {
      "text/plain": [
       "((105, 4), (105,), (45, 4), (45,))"
      ]
     },
     "execution_count": 10,
     "metadata": {},
     "output_type": "execute_result"
    }
   ],
   "source": [
    "X_train, X_test, y_train, y_test = train_test_split(df.data, df.target, test_size=0.3)\n",
    "X_train.shape, y_train.shape, X_test.shape, y_test.shape"
   ]
  },
  {
   "cell_type": "markdown",
   "metadata": {},
   "source": [
    "### 5. Classificador"
   ]
  },
  {
   "cell_type": "code",
   "execution_count": 11,
   "metadata": {},
   "outputs": [],
   "source": [
    "clf = tree.DecisionTreeClassifier()"
   ]
  },
  {
   "cell_type": "markdown",
   "metadata": {},
   "source": [
    "#### Parâmetros do  classificador DecisionTreeClassifier\n",
    "* criterion: medida de qualidade da divisão\n",
    "* splitter: estratégia utilizada para dividir o nó de decisão\n",
    "* max_depth: profundidade máxima da árvore\n",
    "* min_samples_split: número de amostras mínimas para considerar um nó para divisão\n",
    "* min_samples_leaf: número de amostras mínimas no nível folha"
   ]
  },
  {
   "cell_type": "markdown",
   "metadata": {},
   "source": [
    "### 6. Treinando o modelo de árvore de decisão"
   ]
  },
  {
   "cell_type": "code",
   "execution_count": 12,
   "metadata": {},
   "outputs": [],
   "source": [
    "clf = clf.fit(X_train, y_train)"
   ]
  },
  {
   "cell_type": "code",
   "execution_count": 17,
   "metadata": {},
   "outputs": [
    {
     "data": {
      "text/plain": [
       "array([0.        , 0.02158717, 0.41735197, 0.56106086])"
      ]
     },
     "execution_count": 17,
     "metadata": {},
     "output_type": "execute_result"
    }
   ],
   "source": [
    "# Importância das features para o modelo treinado\n",
    "clf.feature_importances_"
   ]
  },
  {
   "cell_type": "code",
   "execution_count": 19,
   "metadata": {},
   "outputs": [
    {
     "name": "stdout",
     "output_type": "stream",
     "text": [
      "sepal length (cm): 0.0\n",
      "sepal width (cm): 0.02158717105263158\n",
      "petal length (cm): 0.41735197368421056\n",
      "petal width (cm): 0.5610608552631577\n"
     ]
    }
   ],
   "source": [
    "for feature, importance in zip(df.feature_names, clf.feature_importances_):\n",
    "    print('{}: {}'.format(feature, importance))"
   ]
  },
  {
   "cell_type": "markdown",
   "metadata": {},
   "source": [
    "### 7. Testando o modelo"
   ]
  },
  {
   "cell_type": "code",
   "execution_count": 20,
   "metadata": {},
   "outputs": [
    {
     "data": {
      "text/plain": [
       "array([2, 0, 1, 2, 1, 2, 0, 2, 1, 2, 2, 2, 2, 0, 1, 0, 1, 2, 2, 2, 1, 2,\n",
       "       0, 1, 2, 1, 2, 0, 2, 1, 2, 0, 1, 1, 1, 1, 0, 1, 1, 1, 0, 2, 1, 2,\n",
       "       2])"
      ]
     },
     "execution_count": 20,
     "metadata": {},
     "output_type": "execute_result"
    }
   ],
   "source": [
    "predito = clf.predict(X_test)\n",
    "predito"
   ]
  },
  {
   "cell_type": "code",
   "execution_count": 26,
   "metadata": {},
   "outputs": [
    {
     "data": {
      "text/plain": [
       "array(['setosa'], dtype='<U10')"
      ]
     },
     "execution_count": 26,
     "metadata": {},
     "output_type": "execute_result"
    }
   ],
   "source": [
    "# Testando com uma nova amostra\n",
    "test = np.array([[5.1, 3.5, 1.4, 0.2]])\n",
    "df.target_names[clf.predict(test)]"
   ]
  },
  {
   "cell_type": "code",
   "execution_count": 27,
   "metadata": {},
   "outputs": [
    {
     "data": {
      "text/plain": [
       "array([[1., 0., 0.]])"
      ]
     },
     "execution_count": 27,
     "metadata": {},
     "output_type": "execute_result"
    }
   ],
   "source": [
    "# Verificando a probabilidade do resultado\n",
    "clf.predict_proba(test)"
   ]
  },
  {
   "cell_type": "markdown",
   "metadata": {},
   "source": [
    "### 8. Validação do Modelo"
   ]
  },
  {
   "cell_type": "code",
   "execution_count": 31,
   "metadata": {},
   "outputs": [
    {
     "name": "stdout",
     "output_type": "stream",
     "text": [
      "              precision    recall  f1-score   support\n",
      "\n",
      "      setosa       1.00      1.00      1.00         9\n",
      "  versicolor       0.94      0.89      0.91        18\n",
      "   virginica       0.89      0.94      0.92        18\n",
      "\n",
      "   micro avg       0.93      0.93      0.93        45\n",
      "   macro avg       0.95      0.94      0.94        45\n",
      "weighted avg       0.93      0.93      0.93        45\n",
      "\n"
     ]
    }
   ],
   "source": [
    "print(metrics.classification_report(y_test, predito, target_names = df.target_names))"
   ]
  },
  {
   "cell_type": "code",
   "execution_count": 32,
   "metadata": {},
   "outputs": [
    {
     "data": {
      "text/plain": [
       "0.9333333333333333"
      ]
     },
     "execution_count": 32,
     "metadata": {},
     "output_type": "execute_result"
    }
   ],
   "source": [
    "metrics.accuracy_score(y_test, predito)"
   ]
  },
  {
   "cell_type": "markdown",
   "metadata": {},
   "source": [
    "### 9. Visualizando a árvore"
   ]
  },
  {
   "cell_type": "code",
   "execution_count": 37,
   "metadata": {},
   "outputs": [],
   "source": [
    "# extra step to allow graphviz to be found \n",
    "import os\n",
    "os.environ[\"PATH\"] += os.pathsep + 'C:/Users/edubr/Anaconda3/envs/data-science/Library/bin/graphviz/'"
   ]
  },
  {
   "cell_type": "code",
   "execution_count": 38,
   "metadata": {},
   "outputs": [
    {
     "data": {
      "image/svg+xml": [
       "<?xml version=\"1.0\" encoding=\"UTF-8\" standalone=\"no\"?>\r\n",
       "<!DOCTYPE svg PUBLIC \"-//W3C//DTD SVG 1.1//EN\"\r\n",
       " \"http://www.w3.org/Graphics/SVG/1.1/DTD/svg11.dtd\">\r\n",
       "<!-- Generated by graphviz version 2.38.0 (20140413.2041)\r\n",
       " -->\r\n",
       "<!-- Title: Tree Pages: 1 -->\r\n",
       "<svg width=\"510pt\" height=\"761pt\"\r\n",
       " viewBox=\"0.00 0.00 510.00 761.00\" xmlns=\"http://www.w3.org/2000/svg\" xmlns:xlink=\"http://www.w3.org/1999/xlink\">\r\n",
       "<g id=\"graph0\" class=\"graph\" transform=\"scale(1 1) rotate(0) translate(4 757)\">\r\n",
       "<title>Tree</title>\r\n",
       "<polygon fill=\"white\" stroke=\"none\" points=\"-4,4 -4,-757 506,-757 506,4 -4,4\"/>\r\n",
       "<!-- 0 -->\r\n",
       "<g id=\"node1\" class=\"node\"><title>0</title>\r\n",
       "<path fill=\"#e58139\" fill-opacity=\"0.121569\" stroke=\"black\" d=\"M244.5,-753C244.5,-753 78.5,-753 78.5,-753 72.5,-753 66.5,-747 66.5,-741 66.5,-741 66.5,-667 66.5,-667 66.5,-661 72.5,-655 78.5,-655 78.5,-655 244.5,-655 244.5,-655 250.5,-655 256.5,-661 256.5,-667 256.5,-667 256.5,-741 256.5,-741 256.5,-747 250.5,-753 244.5,-753\"/>\r\n",
       "<text text-anchor=\"start\" x=\"135\" y=\"-737.8\" font-family=\"Helvetica,sans-Serif\" font-size=\"14.00\">node #0</text>\r\n",
       "<text text-anchor=\"start\" x=\"94\" y=\"-722.8\" font-family=\"Helvetica,sans-Serif\" font-size=\"14.00\">petal width (cm) ≤ 0.8</text>\r\n",
       "<text text-anchor=\"start\" x=\"124\" y=\"-707.8\" font-family=\"Helvetica,sans-Serif\" font-size=\"14.00\">gini = 0.662</text>\r\n",
       "<text text-anchor=\"start\" x=\"101.5\" y=\"-692.8\" font-family=\"Helvetica,sans-Serif\" font-size=\"14.00\">samples = 100.0%</text>\r\n",
       "<text text-anchor=\"start\" x=\"74.5\" y=\"-677.8\" font-family=\"Helvetica,sans-Serif\" font-size=\"14.00\">value = [0.39, 0.305, 0.305]</text>\r\n",
       "<text text-anchor=\"start\" x=\"115.5\" y=\"-662.8\" font-family=\"Helvetica,sans-Serif\" font-size=\"14.00\">class = setosa</text>\r\n",
       "</g>\r\n",
       "<!-- 1 -->\r\n",
       "<g id=\"node2\" class=\"node\"><title>1</title>\r\n",
       "<path fill=\"#e58139\" stroke=\"black\" d=\"M137,-611.5C137,-611.5 12,-611.5 12,-611.5 6,-611.5 0,-605.5 0,-599.5 0,-599.5 0,-540.5 0,-540.5 0,-534.5 6,-528.5 12,-528.5 12,-528.5 137,-528.5 137,-528.5 143,-528.5 149,-534.5 149,-540.5 149,-540.5 149,-599.5 149,-599.5 149,-605.5 143,-611.5 137,-611.5\"/>\r\n",
       "<text text-anchor=\"start\" x=\"48\" y=\"-596.3\" font-family=\"Helvetica,sans-Serif\" font-size=\"14.00\">node #1</text>\r\n",
       "<text text-anchor=\"start\" x=\"45.5\" y=\"-581.3\" font-family=\"Helvetica,sans-Serif\" font-size=\"14.00\">gini = 0.0</text>\r\n",
       "<text text-anchor=\"start\" x=\"18.5\" y=\"-566.3\" font-family=\"Helvetica,sans-Serif\" font-size=\"14.00\">samples = 39.0%</text>\r\n",
       "<text text-anchor=\"start\" x=\"8\" y=\"-551.3\" font-family=\"Helvetica,sans-Serif\" font-size=\"14.00\">value = [1.0, 0.0, 0.0]</text>\r\n",
       "<text text-anchor=\"start\" x=\"28.5\" y=\"-536.3\" font-family=\"Helvetica,sans-Serif\" font-size=\"14.00\">class = setosa</text>\r\n",
       "</g>\r\n",
       "<!-- 0&#45;&gt;1 -->\r\n",
       "<g id=\"edge1\" class=\"edge\"><title>0&#45;&gt;1</title>\r\n",
       "<path fill=\"none\" stroke=\"black\" d=\"M129.845,-654.972C122.411,-643.693 114.478,-631.657 107.008,-620.323\"/>\r\n",
       "<polygon fill=\"black\" stroke=\"black\" points=\"109.827,-618.24 101.402,-611.817 103.983,-622.092 109.827,-618.24\"/>\r\n",
       "<text text-anchor=\"middle\" x=\"96.37\" y=\"-632.605\" font-family=\"Helvetica,sans-Serif\" font-size=\"14.00\">True</text>\r\n",
       "</g>\r\n",
       "<!-- 2 -->\r\n",
       "<g id=\"node3\" class=\"node\"><title>2</title>\r\n",
       "<path fill=\"none\" stroke=\"black\" d=\"M320,-619C320,-619 179,-619 179,-619 173,-619 167,-613 167,-607 167,-607 167,-533 167,-533 167,-527 173,-521 179,-521 179,-521 320,-521 320,-521 326,-521 332,-527 332,-533 332,-533 332,-607 332,-607 332,-613 326,-619 320,-619\"/>\r\n",
       "<text text-anchor=\"start\" x=\"223\" y=\"-603.8\" font-family=\"Helvetica,sans-Serif\" font-size=\"14.00\">node #2</text>\r\n",
       "<text text-anchor=\"start\" x=\"175\" y=\"-588.8\" font-family=\"Helvetica,sans-Serif\" font-size=\"14.00\">petal length (cm) ≤ 4.75</text>\r\n",
       "<text text-anchor=\"start\" x=\"220.5\" y=\"-573.8\" font-family=\"Helvetica,sans-Serif\" font-size=\"14.00\">gini = 0.5</text>\r\n",
       "<text text-anchor=\"start\" x=\"193.5\" y=\"-558.8\" font-family=\"Helvetica,sans-Serif\" font-size=\"14.00\">samples = 61.0%</text>\r\n",
       "<text text-anchor=\"start\" x=\"183\" y=\"-543.8\" font-family=\"Helvetica,sans-Serif\" font-size=\"14.00\">value = [0.0, 0.5, 0.5]</text>\r\n",
       "<text text-anchor=\"start\" x=\"194\" y=\"-528.8\" font-family=\"Helvetica,sans-Serif\" font-size=\"14.00\">class = versicolor</text>\r\n",
       "</g>\r\n",
       "<!-- 0&#45;&gt;2 -->\r\n",
       "<g id=\"edge2\" class=\"edge\"><title>0&#45;&gt;2</title>\r\n",
       "<path fill=\"none\" stroke=\"black\" d=\"M193.519,-654.972C199.403,-646.145 205.597,-636.855 211.633,-627.8\"/>\r\n",
       "<polygon fill=\"black\" stroke=\"black\" points=\"214.723,-629.476 217.357,-619.214 208.898,-625.593 214.723,-629.476\"/>\r\n",
       "<text text-anchor=\"middle\" x=\"222.26\" y=\"-640.028\" font-family=\"Helvetica,sans-Serif\" font-size=\"14.00\">False</text>\r\n",
       "</g>\r\n",
       "<!-- 3 -->\r\n",
       "<g id=\"node4\" class=\"node\"><title>3</title>\r\n",
       "<path fill=\"#39e581\" stroke=\"black\" d=\"M220,-477.5C220,-477.5 95,-477.5 95,-477.5 89,-477.5 83,-471.5 83,-465.5 83,-465.5 83,-406.5 83,-406.5 83,-400.5 89,-394.5 95,-394.5 95,-394.5 220,-394.5 220,-394.5 226,-394.5 232,-400.5 232,-406.5 232,-406.5 232,-465.5 232,-465.5 232,-471.5 226,-477.5 220,-477.5\"/>\r\n",
       "<text text-anchor=\"start\" x=\"131\" y=\"-462.3\" font-family=\"Helvetica,sans-Serif\" font-size=\"14.00\">node #3</text>\r\n",
       "<text text-anchor=\"start\" x=\"128.5\" y=\"-447.3\" font-family=\"Helvetica,sans-Serif\" font-size=\"14.00\">gini = 0.0</text>\r\n",
       "<text text-anchor=\"start\" x=\"101.5\" y=\"-432.3\" font-family=\"Helvetica,sans-Serif\" font-size=\"14.00\">samples = 27.6%</text>\r\n",
       "<text text-anchor=\"start\" x=\"91\" y=\"-417.3\" font-family=\"Helvetica,sans-Serif\" font-size=\"14.00\">value = [0.0, 1.0, 0.0]</text>\r\n",
       "<text text-anchor=\"start\" x=\"102\" y=\"-402.3\" font-family=\"Helvetica,sans-Serif\" font-size=\"14.00\">class = versicolor</text>\r\n",
       "</g>\r\n",
       "<!-- 2&#45;&gt;3 -->\r\n",
       "<g id=\"edge3\" class=\"edge\"><title>2&#45;&gt;3</title>\r\n",
       "<path fill=\"none\" stroke=\"black\" d=\"M216.026,-520.972C208.165,-509.693 199.776,-497.657 191.876,-486.323\"/>\r\n",
       "<polygon fill=\"black\" stroke=\"black\" points=\"194.537,-484.019 185.948,-477.817 188.794,-488.022 194.537,-484.019\"/>\r\n",
       "</g>\r\n",
       "<!-- 4 -->\r\n",
       "<g id=\"node5\" class=\"node\"><title>4</title>\r\n",
       "<path fill=\"#8139e5\" fill-opacity=\"0.905882\" stroke=\"black\" d=\"M420.5,-485C420.5,-485 262.5,-485 262.5,-485 256.5,-485 250.5,-479 250.5,-473 250.5,-473 250.5,-399 250.5,-399 250.5,-393 256.5,-387 262.5,-387 262.5,-387 420.5,-387 420.5,-387 426.5,-387 432.5,-393 432.5,-399 432.5,-399 432.5,-473 432.5,-473 432.5,-479 426.5,-485 420.5,-485\"/>\r\n",
       "<text text-anchor=\"start\" x=\"315\" y=\"-469.8\" font-family=\"Helvetica,sans-Serif\" font-size=\"14.00\">node #4</text>\r\n",
       "<text text-anchor=\"start\" x=\"267\" y=\"-454.8\" font-family=\"Helvetica,sans-Serif\" font-size=\"14.00\">petal length (cm) ≤ 4.95</text>\r\n",
       "<text text-anchor=\"start\" x=\"304\" y=\"-439.8\" font-family=\"Helvetica,sans-Serif\" font-size=\"14.00\">gini = 0.157</text>\r\n",
       "<text text-anchor=\"start\" x=\"285.5\" y=\"-424.8\" font-family=\"Helvetica,sans-Serif\" font-size=\"14.00\">samples = 33.3%</text>\r\n",
       "<text text-anchor=\"start\" x=\"258.5\" y=\"-409.8\" font-family=\"Helvetica,sans-Serif\" font-size=\"14.00\">value = [0.0, 0.086, 0.914]</text>\r\n",
       "<text text-anchor=\"start\" x=\"291.5\" y=\"-394.8\" font-family=\"Helvetica,sans-Serif\" font-size=\"14.00\">class = virginica</text>\r\n",
       "</g>\r\n",
       "<!-- 2&#45;&gt;4 -->\r\n",
       "<g id=\"edge4\" class=\"edge\"><title>2&#45;&gt;4</title>\r\n",
       "<path fill=\"none\" stroke=\"black\" d=\"M282.974,-520.972C289.189,-512.054 295.735,-502.663 302.107,-493.52\"/>\r\n",
       "<polygon fill=\"black\" stroke=\"black\" points=\"305.05,-495.419 307.896,-485.214 299.307,-491.417 305.05,-495.419\"/>\r\n",
       "</g>\r\n",
       "<!-- 5 -->\r\n",
       "<g id=\"node6\" class=\"node\"><title>5</title>\r\n",
       "<path fill=\"none\" stroke=\"black\" d=\"M323,-351C323,-351 188,-351 188,-351 182,-351 176,-345 176,-339 176,-339 176,-265 176,-265 176,-259 182,-253 188,-253 188,-253 323,-253 323,-253 329,-253 335,-259 335,-265 335,-265 335,-339 335,-339 335,-345 329,-351 323,-351\"/>\r\n",
       "<text text-anchor=\"start\" x=\"229\" y=\"-335.8\" font-family=\"Helvetica,sans-Serif\" font-size=\"14.00\">node #5</text>\r\n",
       "<text text-anchor=\"start\" x=\"184\" y=\"-320.8\" font-family=\"Helvetica,sans-Serif\" font-size=\"14.00\">petal width (cm) ≤ 1.65</text>\r\n",
       "<text text-anchor=\"start\" x=\"226.5\" y=\"-305.8\" font-family=\"Helvetica,sans-Serif\" font-size=\"14.00\">gini = 0.5</text>\r\n",
       "<text text-anchor=\"start\" x=\"204\" y=\"-290.8\" font-family=\"Helvetica,sans-Serif\" font-size=\"14.00\">samples = 5.7%</text>\r\n",
       "<text text-anchor=\"start\" x=\"189\" y=\"-275.8\" font-family=\"Helvetica,sans-Serif\" font-size=\"14.00\">value = [0.0, 0.5, 0.5]</text>\r\n",
       "<text text-anchor=\"start\" x=\"200\" y=\"-260.8\" font-family=\"Helvetica,sans-Serif\" font-size=\"14.00\">class = versicolor</text>\r\n",
       "</g>\r\n",
       "<!-- 4&#45;&gt;5 -->\r\n",
       "<g id=\"edge5\" class=\"edge\"><title>4&#45;&gt;5</title>\r\n",
       "<path fill=\"none\" stroke=\"black\" d=\"M310.209,-386.972C304.458,-378.145 298.406,-368.855 292.506,-359.8\"/>\r\n",
       "<polygon fill=\"black\" stroke=\"black\" points=\"295.303,-357.682 286.912,-351.214 289.438,-361.503 295.303,-357.682\"/>\r\n",
       "</g>\r\n",
       "<!-- 10 -->\r\n",
       "<g id=\"node11\" class=\"node\"><title>10</title>\r\n",
       "<path fill=\"#8139e5\" stroke=\"black\" d=\"M490,-343.5C490,-343.5 365,-343.5 365,-343.5 359,-343.5 353,-337.5 353,-331.5 353,-331.5 353,-272.5 353,-272.5 353,-266.5 359,-260.5 365,-260.5 365,-260.5 490,-260.5 490,-260.5 496,-260.5 502,-266.5 502,-272.5 502,-272.5 502,-331.5 502,-331.5 502,-337.5 496,-343.5 490,-343.5\"/>\r\n",
       "<text text-anchor=\"start\" x=\"397\" y=\"-328.3\" font-family=\"Helvetica,sans-Serif\" font-size=\"14.00\">node #10</text>\r\n",
       "<text text-anchor=\"start\" x=\"398.5\" y=\"-313.3\" font-family=\"Helvetica,sans-Serif\" font-size=\"14.00\">gini = 0.0</text>\r\n",
       "<text text-anchor=\"start\" x=\"371.5\" y=\"-298.3\" font-family=\"Helvetica,sans-Serif\" font-size=\"14.00\">samples = 27.6%</text>\r\n",
       "<text text-anchor=\"start\" x=\"361\" y=\"-283.3\" font-family=\"Helvetica,sans-Serif\" font-size=\"14.00\">value = [0.0, 0.0, 1.0]</text>\r\n",
       "<text text-anchor=\"start\" x=\"377.5\" y=\"-268.3\" font-family=\"Helvetica,sans-Serif\" font-size=\"14.00\">class = virginica</text>\r\n",
       "</g>\r\n",
       "<!-- 4&#45;&gt;10 -->\r\n",
       "<g id=\"edge10\" class=\"edge\"><title>4&#45;&gt;10</title>\r\n",
       "<path fill=\"none\" stroke=\"black\" d=\"M372.791,-386.972C380.139,-375.693 387.981,-363.657 395.365,-352.323\"/>\r\n",
       "<polygon fill=\"black\" stroke=\"black\" points=\"398.381,-354.106 400.907,-343.817 392.516,-350.285 398.381,-354.106\"/>\r\n",
       "</g>\r\n",
       "<!-- 6 -->\r\n",
       "<g id=\"node7\" class=\"node\"><title>6</title>\r\n",
       "<path fill=\"#39e581\" stroke=\"black\" d=\"M231,-209.5C231,-209.5 106,-209.5 106,-209.5 100,-209.5 94,-203.5 94,-197.5 94,-197.5 94,-138.5 94,-138.5 94,-132.5 100,-126.5 106,-126.5 106,-126.5 231,-126.5 231,-126.5 237,-126.5 243,-132.5 243,-138.5 243,-138.5 243,-197.5 243,-197.5 243,-203.5 237,-209.5 231,-209.5\"/>\r\n",
       "<text text-anchor=\"start\" x=\"142\" y=\"-194.3\" font-family=\"Helvetica,sans-Serif\" font-size=\"14.00\">node #6</text>\r\n",
       "<text text-anchor=\"start\" x=\"139.5\" y=\"-179.3\" font-family=\"Helvetica,sans-Serif\" font-size=\"14.00\">gini = 0.0</text>\r\n",
       "<text text-anchor=\"start\" x=\"117\" y=\"-164.3\" font-family=\"Helvetica,sans-Serif\" font-size=\"14.00\">samples = 1.9%</text>\r\n",
       "<text text-anchor=\"start\" x=\"102\" y=\"-149.3\" font-family=\"Helvetica,sans-Serif\" font-size=\"14.00\">value = [0.0, 1.0, 0.0]</text>\r\n",
       "<text text-anchor=\"start\" x=\"113\" y=\"-134.3\" font-family=\"Helvetica,sans-Serif\" font-size=\"14.00\">class = versicolor</text>\r\n",
       "</g>\r\n",
       "<!-- 5&#45;&gt;6 -->\r\n",
       "<g id=\"edge6\" class=\"edge\"><title>5&#45;&gt;6</title>\r\n",
       "<path fill=\"none\" stroke=\"black\" d=\"M223.845,-252.972C216.411,-241.693 208.478,-229.657 201.008,-218.323\"/>\r\n",
       "<polygon fill=\"black\" stroke=\"black\" points=\"203.827,-216.24 195.402,-209.817 197.983,-220.092 203.827,-216.24\"/>\r\n",
       "</g>\r\n",
       "<!-- 7 -->\r\n",
       "<g id=\"node8\" class=\"node\"><title>7</title>\r\n",
       "<path fill=\"#8139e5\" fill-opacity=\"0.666667\" stroke=\"black\" d=\"M414,-217C414,-217 273,-217 273,-217 267,-217 261,-211 261,-205 261,-205 261,-131 261,-131 261,-125 267,-119 273,-119 273,-119 414,-119 414,-119 420,-119 426,-125 426,-131 426,-131 426,-205 426,-205 426,-211 420,-217 414,-217\"/>\r\n",
       "<text text-anchor=\"start\" x=\"317\" y=\"-201.8\" font-family=\"Helvetica,sans-Serif\" font-size=\"14.00\">node #7</text>\r\n",
       "<text text-anchor=\"start\" x=\"274\" y=\"-186.8\" font-family=\"Helvetica,sans-Serif\" font-size=\"14.00\">sepal width (cm) ≤ 3.1</text>\r\n",
       "<text text-anchor=\"start\" x=\"306\" y=\"-171.8\" font-family=\"Helvetica,sans-Serif\" font-size=\"14.00\">gini = 0.375</text>\r\n",
       "<text text-anchor=\"start\" x=\"292\" y=\"-156.8\" font-family=\"Helvetica,sans-Serif\" font-size=\"14.00\">samples = 3.8%</text>\r\n",
       "<text text-anchor=\"start\" x=\"269\" y=\"-141.8\" font-family=\"Helvetica,sans-Serif\" font-size=\"14.00\">value = [0.0, 0.25, 0.75]</text>\r\n",
       "<text text-anchor=\"start\" x=\"293.5\" y=\"-126.8\" font-family=\"Helvetica,sans-Serif\" font-size=\"14.00\">class = virginica</text>\r\n",
       "</g>\r\n",
       "<!-- 5&#45;&gt;7 -->\r\n",
       "<g id=\"edge7\" class=\"edge\"><title>5&#45;&gt;7</title>\r\n",
       "<path fill=\"none\" stroke=\"black\" d=\"M287.519,-252.972C293.403,-244.145 299.597,-234.855 305.633,-225.8\"/>\r\n",
       "<polygon fill=\"black\" stroke=\"black\" points=\"308.723,-227.476 311.357,-217.214 302.898,-223.593 308.723,-227.476\"/>\r\n",
       "</g>\r\n",
       "<!-- 8 -->\r\n",
       "<g id=\"node9\" class=\"node\"><title>8</title>\r\n",
       "<path fill=\"#8139e5\" stroke=\"black\" d=\"M322,-83C322,-83 197,-83 197,-83 191,-83 185,-77 185,-71 185,-71 185,-12 185,-12 185,-6 191,-0 197,-0 197,-0 322,-0 322,-0 328,-0 334,-6 334,-12 334,-12 334,-71 334,-71 334,-77 328,-83 322,-83\"/>\r\n",
       "<text text-anchor=\"start\" x=\"233\" y=\"-67.8\" font-family=\"Helvetica,sans-Serif\" font-size=\"14.00\">node #8</text>\r\n",
       "<text text-anchor=\"start\" x=\"230.5\" y=\"-52.8\" font-family=\"Helvetica,sans-Serif\" font-size=\"14.00\">gini = 0.0</text>\r\n",
       "<text text-anchor=\"start\" x=\"208\" y=\"-37.8\" font-family=\"Helvetica,sans-Serif\" font-size=\"14.00\">samples = 2.9%</text>\r\n",
       "<text text-anchor=\"start\" x=\"193\" y=\"-22.8\" font-family=\"Helvetica,sans-Serif\" font-size=\"14.00\">value = [0.0, 0.0, 1.0]</text>\r\n",
       "<text text-anchor=\"start\" x=\"209.5\" y=\"-7.8\" font-family=\"Helvetica,sans-Serif\" font-size=\"14.00\">class = virginica</text>\r\n",
       "</g>\r\n",
       "<!-- 7&#45;&gt;8 -->\r\n",
       "<g id=\"edge8\" class=\"edge\"><title>7&#45;&gt;8</title>\r\n",
       "<path fill=\"none\" stroke=\"black\" d=\"M311.023,-118.865C305.006,-109.946 298.713,-100.619 292.675,-91.6698\"/>\r\n",
       "<polygon fill=\"black\" stroke=\"black\" points=\"295.476,-89.563 286.981,-83.231 289.673,-93.4782 295.476,-89.563\"/>\r\n",
       "</g>\r\n",
       "<!-- 9 -->\r\n",
       "<g id=\"node10\" class=\"node\"><title>9</title>\r\n",
       "<path fill=\"#39e581\" stroke=\"black\" d=\"M489,-83C489,-83 364,-83 364,-83 358,-83 352,-77 352,-71 352,-71 352,-12 352,-12 352,-6 358,-0 364,-0 364,-0 489,-0 489,-0 495,-0 501,-6 501,-12 501,-12 501,-71 501,-71 501,-77 495,-83 489,-83\"/>\r\n",
       "<text text-anchor=\"start\" x=\"400\" y=\"-67.8\" font-family=\"Helvetica,sans-Serif\" font-size=\"14.00\">node #9</text>\r\n",
       "<text text-anchor=\"start\" x=\"397.5\" y=\"-52.8\" font-family=\"Helvetica,sans-Serif\" font-size=\"14.00\">gini = 0.0</text>\r\n",
       "<text text-anchor=\"start\" x=\"375\" y=\"-37.8\" font-family=\"Helvetica,sans-Serif\" font-size=\"14.00\">samples = 1.0%</text>\r\n",
       "<text text-anchor=\"start\" x=\"360\" y=\"-22.8\" font-family=\"Helvetica,sans-Serif\" font-size=\"14.00\">value = [0.0, 1.0, 0.0]</text>\r\n",
       "<text text-anchor=\"start\" x=\"371\" y=\"-7.8\" font-family=\"Helvetica,sans-Serif\" font-size=\"14.00\">class = versicolor</text>\r\n",
       "</g>\r\n",
       "<!-- 7&#45;&gt;9 -->\r\n",
       "<g id=\"edge9\" class=\"edge\"><title>7&#45;&gt;9</title>\r\n",
       "<path fill=\"none\" stroke=\"black\" d=\"M375.59,-118.865C381.536,-109.946 387.754,-100.619 393.72,-91.6698\"/>\r\n",
       "<polygon fill=\"black\" stroke=\"black\" points=\"396.711,-93.4929 399.346,-83.231 390.887,-89.61 396.711,-93.4929\"/>\r\n",
       "</g>\r\n",
       "</g>\r\n",
       "</svg>\r\n"
      ],
      "text/plain": [
       "<graphviz.files.Source at 0x168d6b67240>"
      ]
     },
     "execution_count": 38,
     "metadata": {},
     "output_type": "execute_result"
    }
   ],
   "source": [
    "dot_data = tree.export_graphviz(\n",
    "         clf, \n",
    "         out_file=None,\n",
    "         feature_names=df.feature_names,\n",
    "         class_names=df.target_names,  \n",
    "         filled=True, rounded=True,\n",
    "         proportion=True,\n",
    "         node_ids=True,\n",
    "         rotate=False,\n",
    "         label='all',\n",
    "         special_characters=True\n",
    "        )  \n",
    "graph = graphviz.Source(dot_data)  \n",
    "graph"
   ]
  },
  {
   "cell_type": "markdown",
   "metadata": {},
   "source": [
    "### 10. Árvore interativa"
   ]
  },
  {
   "cell_type": "code",
   "execution_count": 41,
   "metadata": {},
   "outputs": [
    {
     "data": {
      "application/vnd.jupyter.widget-view+json": {
       "model_id": "be88c56f9f394430975a9a9e9c3aa133",
       "version_major": 2,
       "version_minor": 0
      },
      "text/plain": [
       "interactive(children=(Dropdown(description='crit', options=('gini', 'entropy'), value='gini'), Dropdown(descri…"
      ]
     },
     "metadata": {},
     "output_type": "display_data"
    }
   ],
   "source": [
    "# load dataset\n",
    "data = load_iris()\n",
    "\n",
    "# feature matrix\n",
    "X = data.data\n",
    "\n",
    "# target vector\n",
    "y = data.target\n",
    "\n",
    "# feature labels\n",
    "features_label = data.feature_names\n",
    "\n",
    "# class label\n",
    "class_label = data.target_names\n",
    "\n",
    "\n",
    "def plot_tree(crit, split, depth, min_split, min_leaf=0.2):\n",
    "    estimator = tree.DecisionTreeClassifier(\n",
    "           random_state = 0 \n",
    "          ,criterion = crit\n",
    "          ,splitter = split\n",
    "          ,max_depth = depth\n",
    "          ,min_samples_split=min_split\n",
    "          ,min_samples_leaf=min_leaf\n",
    "    )\n",
    "\n",
    "    estimator.fit(X, y)\n",
    "    graph = Source(tree.export_graphviz(estimator\n",
    "      , out_file=None\n",
    "      , feature_names=features_label\n",
    "      , class_names=class_label\n",
    "      , filled = True))\n",
    "    display(SVG(graph.pipe(format='svg')))\n",
    "    return estimator\n",
    "\n",
    "inter=interactive(plot_tree \n",
    "   , crit = [\"gini\", \"entropy\"]\n",
    "   , split = [\"best\", \"random\"]\n",
    "   , depth=[1,2,3,4,5]\n",
    "   , min_split=(0.1,1)\n",
    "   , min_leaf=(0.1,0.5))\n",
    "\n",
    "display(inter)"
   ]
  },
  {
   "cell_type": "markdown",
   "metadata": {},
   "source": [
    "### 11. Navegando na Estrutura da Árvore"
   ]
  },
  {
   "cell_type": "code",
   "execution_count": 44,
   "metadata": {},
   "outputs": [
    {
     "data": {
      "text/plain": [
       "DecisionTreeClassifier(class_weight=None, criterion='gini', max_depth=None,\n",
       "            max_features=None, max_leaf_nodes=3, min_impurity_decrease=0.0,\n",
       "            min_impurity_split=None, min_samples_leaf=1,\n",
       "            min_samples_split=2, min_weight_fraction_leaf=0.0,\n",
       "            presort=False, random_state=0, splitter='best')"
      ]
     },
     "execution_count": 44,
     "metadata": {},
     "output_type": "execute_result"
    }
   ],
   "source": [
    "iris = load_iris()\n",
    "X = iris.data\n",
    "y = iris.target\n",
    "X_train, X_test, y_train, y_test = train_test_split(X, y, random_state=0)\n",
    "\n",
    "estimator = tree.DecisionTreeClassifier(max_leaf_nodes=3, random_state=0)\n",
    "estimator.fit(X_train, y_train)"
   ]
  },
  {
   "cell_type": "code",
   "execution_count": 45,
   "metadata": {},
   "outputs": [],
   "source": [
    "n_nodes = estimator.tree_.node_count\n",
    "children_left = estimator.tree_.children_left\n",
    "children_right = estimator.tree_.children_right\n",
    "feature = estimator.tree_.feature\n",
    "threshold = estimator.tree_.threshold"
   ]
  },
  {
   "cell_type": "code",
   "execution_count": 46,
   "metadata": {},
   "outputs": [
    {
     "name": "stdout",
     "output_type": "stream",
     "text": [
      "Número de nós: 5\n",
      "Indices a esquerda: [ 1 -1  3 -1 -1]\n",
      "Indices a direita: [ 2 -1  4 -1 -1]\n",
      "Feature: [ 3 -2  2 -2 -2]\n",
      "Limite (threshold: [ 0.80000001 -2.          4.95000005 -2.         -2.        ]\n"
     ]
    }
   ],
   "source": [
    "print(\"Número de nós: {}\".format(n_nodes))\n",
    "print(\"Indices a esquerda: {}\".format(children_left))\n",
    "print(\"Indices a direita: {}\".format(children_right))\n",
    "print(\"Feature: {}\".format(feature))\n",
    "print(\"Limite (threshold: {}\".format(threshold))"
   ]
  },
  {
   "cell_type": "code",
   "execution_count": 47,
   "metadata": {},
   "outputs": [
    {
     "name": "stdout",
     "output_type": "stream",
     "text": [
      "\n",
      "A arvore binária tem 5 nós e a seguinte estrutura: \n",
      "\n",
      "nó=0 (nó teste): vai para o nó 1 se o valor do atributo petal width (cm) <= 0.800000011920929 \n",
      " se não, vai para o nó 2.\n",
      "\tnó=1 (nó folha).\n",
      "\tnó=2 (nó teste): vai para o nó 3 se o valor do atributo petal length (cm) <= 4.950000047683716 \n",
      " se não, vai para o nó 4.\n",
      "\t\tnó=3 (nó folha).\n",
      "\t\tnó=4 (nó folha).\n"
     ]
    }
   ],
   "source": [
    "node_depth = np.zeros(shape=n_nodes, dtype=np.int64)\n",
    "is_leaves = np.zeros(shape=n_nodes, dtype=bool)\n",
    "stack = [(0, -1)]\n",
    "while len(stack) > 0:\n",
    "    node_id, parent_depth = stack.pop()\n",
    "    node_depth[node_id] = parent_depth + 1\n",
    "\n",
    "    if (children_left[node_id] != children_right[node_id]):\n",
    "        stack.append((children_left[node_id], parent_depth + 1))\n",
    "        stack.append((children_right[node_id], parent_depth + 1))\n",
    "    else:\n",
    "        is_leaves[node_id] = True\n",
    "\n",
    "print(\"\\nA arvore binária tem %s nós e a seguinte estrutura: \\n\"\n",
    "      % n_nodes)\n",
    "for i in range(n_nodes):\n",
    "    if is_leaves[i]:\n",
    "        print(\"%snó=%s (nó folha).\" % (node_depth[i] * \"\\t\", i))\n",
    "    else:\n",
    "        print(\"%snó=%s (nó teste): vai para o nó %s se o valor do atributo %s <= %s \\n se não, vai para o \"\n",
    "              \"nó %s.\"\n",
    "              % (node_depth[i] * \"\\t\",\n",
    "                 i,\n",
    "                 children_left[i],\n",
    "                 iris.feature_names[feature[i]],\n",
    "                 threshold[i],\n",
    "                 children_right[i],\n",
    "                 ))"
   ]
  },
  {
   "cell_type": "markdown",
   "metadata": {},
   "source": [
    "Extraindo regras da arvore gerada a partir de uma determinada amostra do conjunto de teste X_teste"
   ]
  },
  {
   "cell_type": "code",
   "execution_count": 71,
   "metadata": {},
   "outputs": [],
   "source": [
    "def extrai_regras(sample_id):\n",
    "    node_indicator = estimator.decision_path(X_test)\n",
    "\n",
    "    leave_id = estimator.apply(X_test)\n",
    "    \n",
    "    node_index = node_indicator.indices[node_indicator.indptr[sample_id]:\n",
    "                                        node_indicator.indptr[sample_id + 1]]\n",
    "\n",
    "    print('\\nRegras usadas para predizer a amostra %s' % (sample_id))\n",
    "\n",
    "    for f,v in zip(iris.feature_names,X_test[sample_id]):\n",
    "        print('%s = %s'%(f,v))\n",
    "\n",
    "    print('\\n')      \n",
    "    for node_id in node_index:\n",
    "        if leave_id[sample_id] == node_id:\n",
    "            continue\n",
    "\n",
    "        if (X_test[sample_id, feature[node_id]] <= threshold[node_id]):\n",
    "            threshold_sign = \"<=\"\n",
    "        else:\n",
    "            threshold_sign = \">\"\n",
    "\n",
    "        print(\"id do nó de decisão %s : (atributo %s com valor = %s %s %s)\"\n",
    "              % (node_id,\n",
    "                 iris.feature_names[feature[node_id]],\n",
    "                 X_test[sample_id, feature[node_id]],\n",
    "                 threshold_sign,\n",
    "                 threshold[node_id]))\n",
    "    pred =estimator.predict(X_test[sample_id].reshape(1, -1)) \n",
    "    print(\"\\tClasse => %s\" %iris.target_names[pred])"
   ]
  },
  {
   "cell_type": "code",
   "execution_count": 73,
   "metadata": {},
   "outputs": [
    {
     "name": "stdout",
     "output_type": "stream",
     "text": [
      "\n",
      "Regras usadas para predizer a amostra 2\n",
      "sepal length (cm) = 5.5\n",
      "sepal width (cm) = 4.2\n",
      "petal length (cm) = 1.4\n",
      "petal width (cm) = 0.2\n",
      "\n",
      "\n",
      "id do nó de decisão 0 : (atributo petal width (cm) com valor = 0.2 <= 0.800000011920929)\n",
      "\tClasse => ['setosa']\n"
     ]
    }
   ],
   "source": [
    "extrai_regras(2)"
   ]
  },
  {
   "cell_type": "markdown",
   "metadata": {},
   "source": [
    "Entendendo o parâmetro min-samples-split para criação do modelo de árvore de decisão"
   ]
  },
  {
   "cell_type": "code",
   "execution_count": 82,
   "metadata": {},
   "outputs": [],
   "source": [
    "def visualize_fronteiras(msamples_split):\n",
    "    X = iris.data[:, [0, 2]]\n",
    "    y = iris.target\n",
    "\n",
    "    clf = tree.DecisionTreeClassifier(min_samples_split=msamples_split)\n",
    "    treeclf = clf.fit(X, y)\n",
    "\n",
    "    plt.figure(figsize=(8,5))\n",
    "    plot_decision_regions(X, y, clf=treeclf, legend=2)\n",
    "\n",
    "    plt.xlabel('sepal length [cm]')\n",
    "    plt.ylabel('petal length [cm]')\n",
    "    plt.title('Decision Tree on Iris')\n",
    "    plt.show()"
   ]
  },
  {
   "cell_type": "code",
   "execution_count": 83,
   "metadata": {},
   "outputs": [
    {
     "data": {
      "image/png": "[encoded data removed]",
      "text/plain": [
       "<Figure size 576x360 with 1 Axes>"
      ]
     },
     "metadata": {
      "needs_background": "light"
     },
     "output_type": "display_data"
    }
   ],
   "source": [
    "visualize_fronteiras(2)"
   ]
  },
  {
   "cell_type": "code",
   "execution_count": 85,
   "metadata": {},
   "outputs": [
    {
     "data": {
      "image/png": "[encoded data removed]",
      "text/plain": [
       "<Figure size 576x360 with 1 Axes>"
      ]
     },
     "metadata": {
      "needs_background": "light"
     },
     "output_type": "display_data"
    }
   ],
   "source": [
    "visualize_fronteiras(10)"
   ]
  },
  {
   "cell_type": "markdown",
   "metadata": {},
   "source": [
    "*Quanto menor o valor do parâmetro min_samples_split, maior a complexidade do modelo e mais propenso à sofrer overfitting.*"
   ]
  }
 ],
 "metadata": {
  "kernelspec": {
   "display_name": "Python 3",
   "language": "python",
   "name": "python3"
  },
  "language_info": {
   "codemirror_mode": {
    "name": "ipython",
    "version": 3
   },
   "file_extension": ".py",
   "mimetype": "text/x-python",
   "name": "python",
   "nbconvert_exporter": "python",
   "pygments_lexer": "ipython3",
   "version": "3.6.8"
  }
 },
 "nbformat": 4,
 "nbformat_minor": 2
}
